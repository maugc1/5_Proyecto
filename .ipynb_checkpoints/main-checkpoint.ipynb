{
 "cells": [
  {
   "cell_type": "markdown",
   "id": "181e672e",
   "metadata": {},
   "source": [
    "# Proyecto_5"
   ]
  },
  {
   "cell_type": "markdown",
   "id": "c0b46657",
   "metadata": {},
   "source": [
    "### Diseñar experimento"
   ]
  },
  {
   "cell_type": "markdown",
   "id": "1e124a10",
   "metadata": {},
   "source": [
    "#### Formulando Hipótesis\n",
    "\n",
    "En la hipótesis nula, el usuario tiene más facilidad para comprar en la página original.\n",
    "\n",
    "La hipótesis alternativa indica que el usuario tiene mayor o menor facilidad para comprar en la página editada.\n",
    "\n",
    "$$H_0: p = p_0$$\n",
    "$$H_1: p \\ne p_0$$\n",
    "\n",
    "\n",
    "\n",
    "**Grupo de control**: Página original\n",
    "\n",
    "**Grupo de Tratamiento**: Página con cambios\n",
    "\n",
    "\n",
    "\n",
    "\n",
    "\n",
    "**Cambios realizados:**\n",
    "    \n",
    "    - Estrechar banner\n",
    "    \n",
    "    - Llenar Home de categorías para facilitar la busqueda de productos"
   ]
  },
  {
   "cell_type": "code",
   "execution_count": null,
   "id": "22ebc553",
   "metadata": {},
   "outputs": [],
   "source": []
  }
 ],
 "metadata": {
  "kernelspec": {
   "display_name": "Python 3 (ipykernel)",
   "language": "python",
   "name": "python3"
  },
  "language_info": {
   "codemirror_mode": {
    "name": "ipython",
    "version": 3
   },
   "file_extension": ".py",
   "mimetype": "text/x-python",
   "name": "python",
   "nbconvert_exporter": "python",
   "pygments_lexer": "ipython3",
   "version": "3.9.7"
  }
 },
 "nbformat": 4,
 "nbformat_minor": 5
}
