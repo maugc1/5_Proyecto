{
 "cells": [
  {
   "cell_type": "markdown",
   "id": "22b0eaf3",
   "metadata": {},
   "source": [
    "# Proyecto_5"
   ]
  },
  {
   "cell_type": "markdown",
   "id": "fe59658d",
   "metadata": {},
   "source": [
    "### Diseñar experimento"
   ]
  },
  {
   "cell_type": "markdown",
   "id": "0335df7a",
   "metadata": {},
   "source": [
    "#### Formulando Hipótesis\n",
    "\n",
    "En la hipótesis nula, el usuario tiene más facilidad para comprar en la página original.\n",
    "\n",
    "La hipótesis alternativa indica que el usuario tiene mayor o menor facilidad para comprar en la página editada.\n",
    "\n",
    "$$H_0: p = p_0$$\n",
    "$$H_1: p \\ne p_0$$\n",
    "\n",
    "\n",
    "\n",
    "**Grupo de control**: Página original\n",
    "\n",
    "**Grupo de Tratamiento**: Página con cambios\n",
    "\n",
    "\n",
    "\n",
    "\n",
    "\n",
    "**Cambios realizados:**\n",
    "    \n",
    "    - Estrechar banner\n",
    "    \n",
    "    - Llenar Home de categorías para facilitar la busqueda de productos\n",
    "    \n",
    "    - Botón de busqueda"
   ]
  },
  {
   "cell_type": "markdown",
   "id": "453011c9",
   "metadata": {},
   "source": [
    "### Instalar librerías"
   ]
  },
  {
   "cell_type": "code",
   "execution_count": 1,
   "id": "36a97f00",
   "metadata": {},
   "outputs": [],
   "source": [
    "import numpy as np\n",
    "import pandas as pd\n",
    "import pylab as plt\n",
    "plt.rcParams['figure.figsize']=(15, 8)\n",
    "\n",
    "from scipy.stats import bernoulli, beta "
   ]
  },
  {
   "cell_type": "markdown",
   "id": "984a08f6",
   "metadata": {},
   "source": [
    "### Obtener y preparar datos"
   ]
  },
  {
   "cell_type": "code",
   "execution_count": 2,
   "id": "afabfd35",
   "metadata": {},
   "outputs": [
    {
     "data": {
      "text/html": [
       "<div>\n",
       "<style scoped>\n",
       "    .dataframe tbody tr th:only-of-type {\n",
       "        vertical-align: middle;\n",
       "    }\n",
       "\n",
       "    .dataframe tbody tr th {\n",
       "        vertical-align: top;\n",
       "    }\n",
       "\n",
       "    .dataframe thead th {\n",
       "        text-align: right;\n",
       "    }\n",
       "</style>\n",
       "<table border=\"1\" class=\"dataframe\">\n",
       "  <thead>\n",
       "    <tr style=\"text-align: right;\">\n",
       "      <th></th>\n",
       "      <th>userid</th>\n",
       "      <th>version</th>\n",
       "      <th>time</th>\n",
       "      <th>page</th>\n",
       "      <th>compra</th>\n",
       "      <th>genero</th>\n",
       "      <th>edad</th>\n",
       "    </tr>\n",
       "  </thead>\n",
       "  <tbody>\n",
       "    <tr>\n",
       "      <th>0</th>\n",
       "      <td>c1</td>\n",
       "      <td>control</td>\n",
       "      <td>238</td>\n",
       "      <td>old_page</td>\n",
       "      <td>0</td>\n",
       "      <td>M</td>\n",
       "      <td>26</td>\n",
       "    </tr>\n",
       "    <tr>\n",
       "      <th>1</th>\n",
       "      <td>c2</td>\n",
       "      <td>control</td>\n",
       "      <td>393</td>\n",
       "      <td>old_page</td>\n",
       "      <td>1</td>\n",
       "      <td>F</td>\n",
       "      <td>18</td>\n",
       "    </tr>\n",
       "    <tr>\n",
       "      <th>2</th>\n",
       "      <td>c3</td>\n",
       "      <td>control</td>\n",
       "      <td>168</td>\n",
       "      <td>old_page</td>\n",
       "      <td>1</td>\n",
       "      <td>M</td>\n",
       "      <td>54</td>\n",
       "    </tr>\n",
       "    <tr>\n",
       "      <th>3</th>\n",
       "      <td>c4</td>\n",
       "      <td>control</td>\n",
       "      <td>327</td>\n",
       "      <td>old_page</td>\n",
       "      <td>0</td>\n",
       "      <td>F</td>\n",
       "      <td>21</td>\n",
       "    </tr>\n",
       "    <tr>\n",
       "      <th>4</th>\n",
       "      <td>c5</td>\n",
       "      <td>control</td>\n",
       "      <td>115</td>\n",
       "      <td>old_page</td>\n",
       "      <td>0</td>\n",
       "      <td>F</td>\n",
       "      <td>69</td>\n",
       "    </tr>\n",
       "  </tbody>\n",
       "</table>\n",
       "</div>"
      ],
      "text/plain": [
       "  userid  version  time      page  compra genero  edad\n",
       "0     c1  control   238  old_page       0      M    26\n",
       "1     c2  control   393  old_page       1      F    18\n",
       "2     c3  control   168  old_page       1      M    54\n",
       "3     c4  control   327  old_page       0      F    21\n",
       "4     c5  control   115  old_page       0      F    69"
      ]
     },
     "execution_count": 2,
     "metadata": {},
     "output_type": "execute_result"
    }
   ],
   "source": [
    "data=pd.read_csv('../data/Datos_recopilados.csv',sep=';')\n",
    "data.head()"
   ]
  },
  {
   "cell_type": "code",
   "execution_count": 3,
   "id": "98b21136",
   "metadata": {},
   "outputs": [
    {
     "name": "stdout",
     "output_type": "stream",
     "text": [
      "<class 'pandas.core.frame.DataFrame'>\n",
      "RangeIndex: 40 entries, 0 to 39\n",
      "Data columns (total 7 columns):\n",
      " #   Column   Non-Null Count  Dtype \n",
      "---  ------   --------------  ----- \n",
      " 0   userid   40 non-null     object\n",
      " 1   version  40 non-null     object\n",
      " 2   time     40 non-null     int64 \n",
      " 3   page     40 non-null     object\n",
      " 4   compra   40 non-null     int64 \n",
      " 5   genero   40 non-null     object\n",
      " 6   edad     40 non-null     int64 \n",
      "dtypes: int64(3), object(4)\n",
      "memory usage: 2.3+ KB\n"
     ]
    }
   ],
   "source": [
    "data.info()"
   ]
  },
  {
   "cell_type": "code",
   "execution_count": 4,
   "id": "48db8ace",
   "metadata": {},
   "outputs": [
    {
     "data": {
      "text/html": [
       "<div>\n",
       "<style scoped>\n",
       "    .dataframe tbody tr th:only-of-type {\n",
       "        vertical-align: middle;\n",
       "    }\n",
       "\n",
       "    .dataframe tbody tr th {\n",
       "        vertical-align: top;\n",
       "    }\n",
       "\n",
       "    .dataframe thead th {\n",
       "        text-align: right;\n",
       "    }\n",
       "</style>\n",
       "<table border=\"1\" class=\"dataframe\">\n",
       "  <thead>\n",
       "    <tr style=\"text-align: right;\">\n",
       "      <th>page</th>\n",
       "      <th>new_page</th>\n",
       "      <th>old_page</th>\n",
       "    </tr>\n",
       "    <tr>\n",
       "      <th>version</th>\n",
       "      <th></th>\n",
       "      <th></th>\n",
       "    </tr>\n",
       "  </thead>\n",
       "  <tbody>\n",
       "    <tr>\n",
       "      <th>control</th>\n",
       "      <td>0</td>\n",
       "      <td>20</td>\n",
       "    </tr>\n",
       "    <tr>\n",
       "      <th>tratamiento</th>\n",
       "      <td>20</td>\n",
       "      <td>0</td>\n",
       "    </tr>\n",
       "  </tbody>\n",
       "</table>\n",
       "</div>"
      ],
      "text/plain": [
       "page         new_page  old_page\n",
       "version                        \n",
       "control             0        20\n",
       "tratamiento        20         0"
      ]
     },
     "execution_count": 4,
     "metadata": {},
     "output_type": "execute_result"
    }
   ],
   "source": [
    "pd.crosstab(data.version, data.page)"
   ]
  },
  {
   "cell_type": "code",
   "execution_count": 5,
   "id": "ae684d03",
   "metadata": {},
   "outputs": [
    {
     "data": {
      "image/png": "[encoded data removed]",
      "text/plain": [
       "<Figure size 1080x576 with 1 Axes>"
      ]
     },
     "metadata": {
      "needs_background": "light"
     },
     "output_type": "display_data"
    }
   ],
   "source": [
    "pd.crosstab(data.version, data.page).plot(kind='bar');"
   ]
  },
  {
   "cell_type": "markdown",
   "id": "59829b6a",
   "metadata": {},
   "source": [
    "### AB Testing Bayesiano "
   ]
  },
  {
   "cell_type": "code",
   "execution_count": 6,
   "id": "f61a3475",
   "metadata": {},
   "outputs": [
    {
     "data": {
      "text/plain": [
       "1    14\n",
       "0     6\n",
       "Name: compra, dtype: int64"
      ]
     },
     "execution_count": 6,
     "metadata": {},
     "output_type": "execute_result"
    }
   ],
   "source": [
    "data[data['version']=='control'].compra.value_counts()"
   ]
  },
  {
   "cell_type": "code",
   "execution_count": 7,
   "id": "4f42aeca",
   "metadata": {},
   "outputs": [
    {
     "data": {
      "text/plain": [
       "'TASAS: Control=0.7, Test=0.75'"
      ]
     },
     "execution_count": 7,
     "metadata": {},
     "output_type": "execute_result"
    }
   ],
   "source": [
    "imps_ctrl = len(data[data['version']=='control'])\n",
    "convs_ctrl = data[data['version']=='control'].compra.value_counts()[1]\n",
    "imps_test=len(data[data['version']=='tratamiento'])\n",
    "convs_test= data[data['version']=='tratamiento'].compra.value_counts()[1]\n",
    "\n",
    "CR_ctrl = convs_ctrl/imps_ctrl\n",
    "CR_test = convs_test/imps_test\n",
    "\n",
    "f'TASAS: Control={CR_ctrl}, Test={CR_test}'"
   ]
  },
  {
   "cell_type": "code",
   "execution_count": 8,
   "id": "da7fb2ea",
   "metadata": {},
   "outputs": [],
   "source": [
    "# a prioris, las betas\n",
    "\n",
    "a_C, b_C = convs_ctrl+1, imps_ctrl-convs_ctrl+1\n",
    "a_T, b_T = convs_test+1, imps_test-convs_test+1\n",
    "\n",
    "beta_control=beta(a_C, b_C)\n",
    "beta_test=beta(a_T, b_T)"
   ]
  },
  {
   "cell_type": "code",
   "execution_count": 9,
   "id": "90550c88",
   "metadata": {},
   "outputs": [
    {
     "data": {
      "text/plain": [
       "(0.6818181818181818, 0.7272727272727273)"
      ]
     },
     "execution_count": 9,
     "metadata": {},
     "output_type": "execute_result"
    }
   ],
   "source": [
    "beta_control.mean(), beta_test.mean()"
   ]
  },
  {
   "cell_type": "code",
   "execution_count": 18,
   "id": "b4719b08",
   "metadata": {},
   "outputs": [],
   "source": [
    "x=np.linspace(0, 1, 100)\n",
    "\n",
    "def plot(betas, nombres):\n",
    "    \n",
    "    for bet, nom in zip(betas, nombres):\n",
    "        \n",
    "        y=bet.pdf(x)\n",
    "        y_media=bet.mean()\n",
    "        y_std=bet.std()\n",
    "        \n",
    "        plt.plot(x, y, label='{}, tasa de conv: {:.6f} $\\pm$ {:.10f}'.format(nom, y_media, y_std))\n",
    "        plt.yticks([])\n",
    "        \n",
    "    plt.legend()\n",
    "    plt.show();"
   ]
  },
  {
   "cell_type": "code",
   "execution_count": 19,
   "id": "6dc7914f",
   "metadata": {},
   "outputs": [
    {
     "data": {
      "image/png": "[encoded data removed]",
      "text/plain": [
       "<Figure size 1080x576 with 1 Axes>"
      ]
     },
     "metadata": {
      "needs_background": "light"
     },
     "output_type": "display_data"
    }
   ],
   "source": [
    "plot([beta_control, beta_test], ['Control', 'Testeo'])"
   ]
  },
  {
   "cell_type": "code",
   "execution_count": 21,
   "id": "48b3b5bd",
   "metadata": {},
   "outputs": [
    {
     "data": {
      "text/plain": [
       "0.06666666666666678"
      ]
     },
     "execution_count": 21,
     "metadata": {},
     "output_type": "execute_result"
    }
   ],
   "source": [
    "salto=(beta_test.mean() - beta_control.mean())/beta_control.mean()\n",
    "\n",
    "salto"
   ]
  },
  {
   "cell_type": "code",
   "execution_count": 22,
   "id": "533043e7",
   "metadata": {},
   "outputs": [
    {
     "name": "stdout",
     "output_type": "stream",
     "text": [
      "Requirement already satisfied: mpmath in c:\\users\\mgc_1\\anaconda3\\lib\\site-packages (1.2.1)\n"
     ]
    }
   ],
   "source": [
    "!pip install mpmath"
   ]
  },
  {
   "cell_type": "code",
   "execution_count": 35,
   "id": "74a8f754",
   "metadata": {},
   "outputs": [
    {
     "data": {
      "text/plain": [
       "0.0"
      ]
     },
     "execution_count": 35,
     "metadata": {},
     "output_type": "execute_result"
    }
   ],
   "source": [
    "from mpmath import betainc   # integral de beta\n",
    "\n",
    "prob=betainc(a_T, b_T, , 1, regularized=True)\n",
    "\n",
    "prob=float(prob)\n",
    "\n",
    "prob"
   ]
  },
  {
   "cell_type": "code",
   "execution_count": 32,
   "id": "6eb7bc81",
   "metadata": {},
   "outputs": [
    {
     "data": {
      "text/plain": [
       "'El test aumenta la tasa de conversion en un 6.67%, con una probabilidad del 100.00%'"
      ]
     },
     "execution_count": 32,
     "metadata": {},
     "output_type": "execute_result"
    }
   ],
   "source": [
    "'''El test aumenta la tasa de conversion en un {:2.2f}%, con una probabilidad del {:2.2f}%'''.format(salto*100, prob*100)"
   ]
  },
  {
   "cell_type": "code",
   "execution_count": null,
   "id": "fbc0c80b",
   "metadata": {},
   "outputs": [],
   "source": []
  }
 ],
 "metadata": {
  "kernelspec": {
   "display_name": "Python 3 (ipykernel)",
   "language": "python",
   "name": "python3"
  },
  "language_info": {
   "codemirror_mode": {
    "name": "ipython",
    "version": 3
   },
   "file_extension": ".py",
   "mimetype": "text/x-python",
   "name": "python",
   "nbconvert_exporter": "python",
   "pygments_lexer": "ipython3",
   "version": "3.9.7"
  }
 },
 "nbformat": 4,
 "nbformat_minor": 5
}
