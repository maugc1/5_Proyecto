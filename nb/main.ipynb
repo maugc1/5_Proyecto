{
 "cells": [
  {
   "cell_type": "markdown",
   "id": "22b0eaf3",
   "metadata": {},
   "source": [
    "# Proyecto_5"
   ]
  },
  {
   "cell_type": "markdown",
   "id": "fe59658d",
   "metadata": {},
   "source": [
    "### Diseñar experimento"
   ]
  },
  {
   "cell_type": "markdown",
   "id": "0335df7a",
   "metadata": {},
   "source": [
    "#### Formulando Hipótesis\n",
    "\n",
    "En la hipótesis nula, el usuario tiene más facilidad para comprar en la página original.\n",
    "\n",
    "La hipótesis alternativa indica que el usuario tiene mayor o menor facilidad para comprar en la página editada.\n",
    "\n",
    "$$H_0: p = p_0$$\n",
    "$$H_1: p \\ne p_0$$\n",
    "\n",
    "\n",
    "\n",
    "**Grupo de control**: Página original\n",
    "\n",
    "**Grupo de Tratamiento**: Página con cambios\n",
    "\n",
    "\n",
    "\n",
    "\n",
    "\n",
    "**Cambios realizados:**\n",
    "    \n",
    "    - Estrechar banner\n",
    "    \n",
    "    - Llenar Home de categorías para facilitar la busqueda de productos\n",
    "    \n",
    "    - Botón de busqueda"
   ]
  },
  {
   "cell_type": "markdown",
   "id": "453011c9",
   "metadata": {},
   "source": [
    "### Instalar librerías"
   ]
  },
  {
   "cell_type": "code",
   "execution_count": 1,
   "id": "36a97f00",
   "metadata": {},
   "outputs": [],
   "source": [
    "import numpy as np\n",
    "import pandas as pd\n",
    "import pylab as plt\n",
    "plt.rcParams['figure.figsize']=(15, 8)\n",
    "\n",
    "from scipy.stats import bernoulli, beta \n",
    "\n",
    "from bayes import *"
   ]
  },
  {
   "cell_type": "markdown",
   "id": "984a08f6",
   "metadata": {},
   "source": [
    "### Obtener y preparar datos"
   ]
  },
  {
   "cell_type": "code",
   "execution_count": 2,
   "id": "afabfd35",
   "metadata": {},
   "outputs": [
    {
     "data": {
      "text/html": [
       "<div>\n",
       "<style scoped>\n",
       "    .dataframe tbody tr th:only-of-type {\n",
       "        vertical-align: middle;\n",
       "    }\n",
       "\n",
       "    .dataframe tbody tr th {\n",
       "        vertical-align: top;\n",
       "    }\n",
       "\n",
       "    .dataframe thead th {\n",
       "        text-align: right;\n",
       "    }\n",
       "</style>\n",
       "<table border=\"1\" class=\"dataframe\">\n",
       "  <thead>\n",
       "    <tr style=\"text-align: right;\">\n",
       "      <th></th>\n",
       "      <th>userid</th>\n",
       "      <th>version</th>\n",
       "      <th>page</th>\n",
       "      <th>compra_exp1</th>\n",
       "      <th>click_banner_exp2</th>\n",
       "      <th>time_userid</th>\n",
       "      <th>time_exp3</th>\n",
       "      <th>genero</th>\n",
       "      <th>edad</th>\n",
       "      <th>profesion</th>\n",
       "    </tr>\n",
       "  </thead>\n",
       "  <tbody>\n",
       "    <tr>\n",
       "      <th>0</th>\n",
       "      <td>cu1</td>\n",
       "      <td>control</td>\n",
       "      <td>old_page</td>\n",
       "      <td>0</td>\n",
       "      <td>1</td>\n",
       "      <td>47</td>\n",
       "      <td>0</td>\n",
       "      <td>M</td>\n",
       "      <td>25</td>\n",
       "      <td>Data Analyst</td>\n",
       "    </tr>\n",
       "    <tr>\n",
       "      <th>1</th>\n",
       "      <td>cu2</td>\n",
       "      <td>control</td>\n",
       "      <td>old_page</td>\n",
       "      <td>0</td>\n",
       "      <td>0</td>\n",
       "      <td>55</td>\n",
       "      <td>0</td>\n",
       "      <td>F</td>\n",
       "      <td>32</td>\n",
       "      <td>Profesor</td>\n",
       "    </tr>\n",
       "    <tr>\n",
       "      <th>2</th>\n",
       "      <td>cu3</td>\n",
       "      <td>control</td>\n",
       "      <td>old_page</td>\n",
       "      <td>1</td>\n",
       "      <td>0</td>\n",
       "      <td>31</td>\n",
       "      <td>1</td>\n",
       "      <td>M</td>\n",
       "      <td>25</td>\n",
       "      <td>Nutricionista</td>\n",
       "    </tr>\n",
       "    <tr>\n",
       "      <th>3</th>\n",
       "      <td>cu4</td>\n",
       "      <td>control</td>\n",
       "      <td>old_page</td>\n",
       "      <td>1</td>\n",
       "      <td>0</td>\n",
       "      <td>48</td>\n",
       "      <td>0</td>\n",
       "      <td>M</td>\n",
       "      <td>41</td>\n",
       "      <td>Desarrollador Web</td>\n",
       "    </tr>\n",
       "    <tr>\n",
       "      <th>4</th>\n",
       "      <td>cu5</td>\n",
       "      <td>control</td>\n",
       "      <td>old_page</td>\n",
       "      <td>0</td>\n",
       "      <td>0</td>\n",
       "      <td>26</td>\n",
       "      <td>1</td>\n",
       "      <td>F</td>\n",
       "      <td>38</td>\n",
       "      <td>Diseñadore</td>\n",
       "    </tr>\n",
       "  </tbody>\n",
       "</table>\n",
       "</div>"
      ],
      "text/plain": [
       "  userid  version      page  compra_exp1  click_banner_exp2  time_userid  \\\n",
       "0    cu1  control  old_page            0                  1           47   \n",
       "1    cu2  control  old_page            0                  0           55   \n",
       "2    cu3  control  old_page            1                  0           31   \n",
       "3    cu4  control  old_page            1                  0           48   \n",
       "4    cu5  control  old_page            0                  0           26   \n",
       "\n",
       "   time_exp3 genero  edad          profesion  \n",
       "0          0      M    25       Data Analyst  \n",
       "1          0      F    32           Profesor  \n",
       "2          1      M    25      Nutricionista  \n",
       "3          0      M    41  Desarrollador Web  \n",
       "4          1      F    38         Diseñadore  "
      ]
     },
     "execution_count": 2,
     "metadata": {},
     "output_type": "execute_result"
    }
   ],
   "source": [
    "data=pd.read_excel('../data/Datos_recopilados.xlsx')\n",
    "data.head()"
   ]
  },
  {
   "cell_type": "code",
   "execution_count": 3,
   "id": "98b21136",
   "metadata": {},
   "outputs": [
    {
     "name": "stdout",
     "output_type": "stream",
     "text": [
      "<class 'pandas.core.frame.DataFrame'>\n",
      "RangeIndex: 30 entries, 0 to 29\n",
      "Data columns (total 10 columns):\n",
      " #   Column             Non-Null Count  Dtype \n",
      "---  ------             --------------  ----- \n",
      " 0   userid             30 non-null     object\n",
      " 1   version            30 non-null     object\n",
      " 2   page               30 non-null     object\n",
      " 3   compra_exp1        30 non-null     int64 \n",
      " 4   click_banner_exp2  30 non-null     int64 \n",
      " 5   time_userid        30 non-null     int64 \n",
      " 6   time_exp3          30 non-null     int64 \n",
      " 7   genero             30 non-null     object\n",
      " 8   edad               30 non-null     int64 \n",
      " 9   profesion          30 non-null     object\n",
      "dtypes: int64(5), object(5)\n",
      "memory usage: 2.5+ KB\n"
     ]
    }
   ],
   "source": [
    "data.info()"
   ]
  },
  {
   "cell_type": "code",
   "execution_count": 4,
   "id": "48db8ace",
   "metadata": {},
   "outputs": [
    {
     "data": {
      "text/html": [
       "<div>\n",
       "<style scoped>\n",
       "    .dataframe tbody tr th:only-of-type {\n",
       "        vertical-align: middle;\n",
       "    }\n",
       "\n",
       "    .dataframe tbody tr th {\n",
       "        vertical-align: top;\n",
       "    }\n",
       "\n",
       "    .dataframe thead th {\n",
       "        text-align: right;\n",
       "    }\n",
       "</style>\n",
       "<table border=\"1\" class=\"dataframe\">\n",
       "  <thead>\n",
       "    <tr style=\"text-align: right;\">\n",
       "      <th>page</th>\n",
       "      <th>new_page</th>\n",
       "      <th>old_page</th>\n",
       "    </tr>\n",
       "    <tr>\n",
       "      <th>version</th>\n",
       "      <th></th>\n",
       "      <th></th>\n",
       "    </tr>\n",
       "  </thead>\n",
       "  <tbody>\n",
       "    <tr>\n",
       "      <th>control</th>\n",
       "      <td>0</td>\n",
       "      <td>15</td>\n",
       "    </tr>\n",
       "    <tr>\n",
       "      <th>tratamiento</th>\n",
       "      <td>15</td>\n",
       "      <td>0</td>\n",
       "    </tr>\n",
       "  </tbody>\n",
       "</table>\n",
       "</div>"
      ],
      "text/plain": [
       "page         new_page  old_page\n",
       "version                        \n",
       "control             0        15\n",
       "tratamiento        15         0"
      ]
     },
     "execution_count": 4,
     "metadata": {},
     "output_type": "execute_result"
    }
   ],
   "source": [
    "pd.crosstab(data.version, data.page)"
   ]
  },
  {
   "cell_type": "code",
   "execution_count": 5,
   "id": "ae684d03",
   "metadata": {},
   "outputs": [
    {
     "data": {
      "image/png": "[encoded data removed]",
      "text/plain": [
       "<Figure size 1080x576 with 1 Axes>"
      ]
     },
     "metadata": {
      "needs_background": "light"
     },
     "output_type": "display_data"
    }
   ],
   "source": [
    "pd.crosstab(data.version, data.page).plot(kind='bar');"
   ]
  },
  {
   "cell_type": "markdown",
   "id": "59829b6a",
   "metadata": {},
   "source": [
    "### 1er Experimento"
   ]
  },
  {
   "cell_type": "code",
   "execution_count": 6,
   "id": "4f42aeca",
   "metadata": {},
   "outputs": [
    {
     "data": {
      "text/plain": [
       "'TASAS: Control=0.4, Test=0.8'"
      ]
     },
     "execution_count": 6,
     "metadata": {},
     "output_type": "execute_result"
    }
   ],
   "source": [
    "imps_ctrl = len(data[data['version']=='control'])\n",
    "convs_ctrl = data[data['version']=='control'].compra_exp1.value_counts()[1]\n",
    "imps_test=len(data[data['version']=='tratamiento'])\n",
    "convs_test= data[data['version']=='tratamiento'].compra_exp1.value_counts()[1]\n",
    "\n",
    "CR_ctrl = convs_ctrl/imps_ctrl\n",
    "CR_test = convs_test/imps_test\n",
    "\n",
    "f'TASAS: Control={CR_ctrl}, Test={CR_test}'"
   ]
  },
  {
   "cell_type": "code",
   "execution_count": 7,
   "id": "da7fb2ea",
   "metadata": {},
   "outputs": [],
   "source": [
    "# a prioris, las betas\n",
    "\n",
    "a_C, b_C = convs_ctrl+1, imps_ctrl-convs_ctrl+1\n",
    "a_T, b_T = convs_test+1, imps_test-convs_test+1\n",
    "\n",
    "beta_control=beta(a_C, b_C)\n",
    "beta_test=beta(a_T, b_T)"
   ]
  },
  {
   "cell_type": "code",
   "execution_count": 8,
   "id": "90550c88",
   "metadata": {},
   "outputs": [
    {
     "data": {
      "text/plain": [
       "(0.4117647058823529, 0.7647058823529411)"
      ]
     },
     "execution_count": 8,
     "metadata": {},
     "output_type": "execute_result"
    }
   ],
   "source": [
    "beta_control.mean(), beta_test.mean()"
   ]
  },
  {
   "cell_type": "code",
   "execution_count": 9,
   "id": "b4719b08",
   "metadata": {},
   "outputs": [],
   "source": [
    "x=np.linspace(0, 1, 100)\n",
    "\n",
    "def plot(betas, nombres):\n",
    "    \n",
    "    for bet, nom in zip(betas, nombres):\n",
    "        \n",
    "        y=bet.pdf(x)\n",
    "        y_media=bet.mean()\n",
    "        y_std=bet.std()\n",
    "        \n",
    "        plt.plot(x, y, label='{}, tasa de conv: {:.6f} $\\pm$ {:.10f}'.format(nom, y_media, y_std))\n",
    "        plt.yticks([])\n",
    "        \n",
    "    plt.legend()\n",
    "    plt.show();"
   ]
  },
  {
   "cell_type": "code",
   "execution_count": 10,
   "id": "6dc7914f",
   "metadata": {},
   "outputs": [
    {
     "data": {
      "image/png": "[encoded data removed]",
      "text/plain": [
       "<Figure size 1080x576 with 1 Axes>"
      ]
     },
     "metadata": {
      "needs_background": "light"
     },
     "output_type": "display_data"
    }
   ],
   "source": [
    "plot([beta_control, beta_test], ['Control', 'Testeo'])"
   ]
  },
  {
   "cell_type": "code",
   "execution_count": 11,
   "id": "48b3b5bd",
   "metadata": {},
   "outputs": [
    {
     "data": {
      "text/plain": [
       "0.8571428571428571"
      ]
     },
     "execution_count": 11,
     "metadata": {},
     "output_type": "execute_result"
    }
   ],
   "source": [
    "salto=(beta_test.mean() - beta_control.mean())/beta_control.mean()\n",
    "\n",
    "salto"
   ]
  },
  {
   "cell_type": "code",
   "execution_count": 12,
   "id": "533043e7",
   "metadata": {},
   "outputs": [],
   "source": [
    "#prob=calc_prob(beta_test, beta_control)\n",
    "#prob"
   ]
  },
  {
   "cell_type": "code",
   "execution_count": 13,
   "id": "74a8f754",
   "metadata": {},
   "outputs": [
    {
     "data": {
      "text/plain": [
       "0.934853258248192"
      ]
     },
     "execution_count": 13,
     "metadata": {},
     "output_type": "execute_result"
    }
   ],
   "source": [
    "from mpmath import betainc   # integral de beta\n",
    "\n",
    "prob=betainc(a_T, b_T, 0.6, 1, regularized=True)\n",
    "\n",
    "prob=float(prob)\n",
    "\n",
    "prob"
   ]
  },
  {
   "cell_type": "code",
   "execution_count": 14,
   "id": "6eb7bc81",
   "metadata": {},
   "outputs": [
    {
     "data": {
      "text/plain": [
       "'El test aumenta la tasa de conversion en un 85.71%, con una probabilidad del 93.49%'"
      ]
     },
     "execution_count": 14,
     "metadata": {},
     "output_type": "execute_result"
    }
   ],
   "source": [
    "'''El test aumenta la tasa de conversion en un {:2.2f}%, con una probabilidad del {:2.2f}%'''.format(salto*100, prob*100)"
   ]
  },
  {
   "cell_type": "markdown",
   "id": "9c4b7e99",
   "metadata": {},
   "source": [
    "### 2do Experimento "
   ]
  },
  {
   "cell_type": "code",
   "execution_count": 15,
   "id": "321518a4",
   "metadata": {},
   "outputs": [
    {
     "data": {
      "text/plain": [
       "'TASAS: Control=0.3333333333333333, Test=0.2'"
      ]
     },
     "execution_count": 15,
     "metadata": {},
     "output_type": "execute_result"
    }
   ],
   "source": [
    "imps_ctrl = len(data[data['version']=='control'])\n",
    "convs_ctrl = data[data['version']=='control'].click_banner_exp2.value_counts()[1]\n",
    "imps_test=len(data[data['version']=='tratamiento'])\n",
    "convs_test= data[data['version']=='tratamiento'].click_banner_exp2.value_counts()[1]\n",
    "\n",
    "CR_ctrl = convs_ctrl/imps_ctrl\n",
    "CR_test = convs_test/imps_test\n",
    "\n",
    "f'TASAS: Control={CR_ctrl}, Test={CR_test}'"
   ]
  },
  {
   "cell_type": "code",
   "execution_count": 16,
   "id": "c67b25fc",
   "metadata": {},
   "outputs": [],
   "source": [
    "# a prioris, las betas\n",
    "\n",
    "a_C, b_C = convs_ctrl+1, imps_ctrl-convs_ctrl+1\n",
    "a_T, b_T = convs_test+1, imps_test-convs_test+1\n",
    "\n",
    "beta_control=beta(a_C, b_C)\n",
    "beta_test=beta(a_T, b_T)"
   ]
  },
  {
   "cell_type": "code",
   "execution_count": 17,
   "id": "c51ebde8",
   "metadata": {},
   "outputs": [
    {
     "data": {
      "text/plain": [
       "(0.35294117647058826, 0.23529411764705882)"
      ]
     },
     "execution_count": 17,
     "metadata": {},
     "output_type": "execute_result"
    }
   ],
   "source": [
    "beta_control.mean(), beta_test.mean()"
   ]
  },
  {
   "cell_type": "code",
   "execution_count": 18,
   "id": "f70372e8",
   "metadata": {},
   "outputs": [],
   "source": [
    "x=np.linspace(0, 1, 100)\n",
    "\n",
    "def plot(betas, nombres):\n",
    "    \n",
    "    for bet, nom in zip(betas, nombres):\n",
    "        \n",
    "        y=bet.pdf(x)\n",
    "        y_media=bet.mean()\n",
    "        y_std=bet.std()\n",
    "        \n",
    "        plt.plot(x, y, label='{}, tasa de conv: {:.6f} $\\pm$ {:.10f}'.format(nom, y_media, y_std))\n",
    "        plt.yticks([])\n",
    "        \n",
    "    plt.legend()\n",
    "    plt.show();"
   ]
  },
  {
   "cell_type": "code",
   "execution_count": 19,
   "id": "47816bee",
   "metadata": {},
   "outputs": [
    {
     "data": {
      "image/png": "[encoded data removed]",
      "text/plain": [
       "<Figure size 1080x576 with 1 Axes>"
      ]
     },
     "metadata": {
      "needs_background": "light"
     },
     "output_type": "display_data"
    }
   ],
   "source": [
    "plot([beta_control, beta_test], ['Control', 'Testeo'])"
   ]
  },
  {
   "cell_type": "code",
   "execution_count": 20,
   "id": "95b498f1",
   "metadata": {},
   "outputs": [
    {
     "data": {
      "text/plain": [
       "-0.33333333333333337"
      ]
     },
     "execution_count": 20,
     "metadata": {},
     "output_type": "execute_result"
    }
   ],
   "source": [
    "salto=(beta_test.mean() - beta_control.mean())/beta_control.mean()\n",
    "\n",
    "salto"
   ]
  },
  {
   "cell_type": "code",
   "execution_count": 21,
   "id": "cdccca29",
   "metadata": {},
   "outputs": [],
   "source": [
    "#prob=calc_prob(beta_test, beta_control)"
   ]
  },
  {
   "cell_type": "code",
   "execution_count": 22,
   "id": "3b66bf1f",
   "metadata": {},
   "outputs": [
    {
     "data": {
      "text/plain": [
       "0.33603615029030176"
      ]
     },
     "execution_count": 22,
     "metadata": {},
     "output_type": "execute_result"
    }
   ],
   "source": [
    "from mpmath import betainc   # integral de beta\n",
    "\n",
    "prob=betainc(a_T, b_T, 0.27, 1, regularized=True)\n",
    "\n",
    "prob=float(prob)\n",
    "\n",
    "prob"
   ]
  },
  {
   "cell_type": "code",
   "execution_count": 23,
   "id": "e2c7619c",
   "metadata": {},
   "outputs": [
    {
     "data": {
      "text/plain": [
       "'El test disminuye la tasa de conversion en un -33.33%, con una probabilidad del 33.60%'"
      ]
     },
     "execution_count": 23,
     "metadata": {},
     "output_type": "execute_result"
    }
   ],
   "source": [
    "'''El test disminuye la tasa de conversion en un {:2.2f}%, con una probabilidad del {:2.2f}%'''.format(salto*100, prob*100)"
   ]
  },
  {
   "cell_type": "markdown",
   "id": "bc213116",
   "metadata": {},
   "source": [
    "### 3er Experimento "
   ]
  },
  {
   "cell_type": "code",
   "execution_count": 24,
   "id": "20889121",
   "metadata": {},
   "outputs": [
    {
     "data": {
      "text/plain": [
       "'TASAS: Control=0.4666666666666667, Test=0.5333333333333333'"
      ]
     },
     "execution_count": 24,
     "metadata": {},
     "output_type": "execute_result"
    }
   ],
   "source": [
    "imps_ctrl = len(data[data['version']=='control'])\n",
    "convs_ctrl = data[data['version']=='control'].time_exp3.value_counts()[1]\n",
    "imps_test=len(data[data['version']=='tratamiento'])\n",
    "convs_test= data[data['version']=='tratamiento'].time_exp3.value_counts()[1]\n",
    "\n",
    "CR_ctrl = convs_ctrl/imps_ctrl\n",
    "CR_test = convs_test/imps_test\n",
    "\n",
    "f'TASAS: Control={CR_ctrl}, Test={CR_test}'"
   ]
  },
  {
   "cell_type": "code",
   "execution_count": 25,
   "id": "1125c4b9",
   "metadata": {},
   "outputs": [],
   "source": [
    "# a prioris, las betas\n",
    "\n",
    "a_C, b_C = convs_ctrl+1, imps_ctrl-convs_ctrl+1\n",
    "a_T, b_T = convs_test+1, imps_test-convs_test+1\n",
    "\n",
    "beta_control=beta(a_C, b_C)\n",
    "beta_test=beta(a_T, b_T)"
   ]
  },
  {
   "cell_type": "code",
   "execution_count": 26,
   "id": "4aa7a57a",
   "metadata": {},
   "outputs": [
    {
     "data": {
      "text/plain": [
       "(0.47058823529411764, 0.5294117647058824)"
      ]
     },
     "execution_count": 26,
     "metadata": {},
     "output_type": "execute_result"
    }
   ],
   "source": [
    "beta_control.mean(), beta_test.mean()"
   ]
  },
  {
   "cell_type": "code",
   "execution_count": 27,
   "id": "44e6410f",
   "metadata": {},
   "outputs": [],
   "source": [
    "x=np.linspace(0, 1, 100)\n",
    "\n",
    "def plot(betas, nombres):\n",
    "    \n",
    "    for bet, nom in zip(betas, nombres):\n",
    "        \n",
    "        y=bet.pdf(x)\n",
    "        y_media=bet.mean()\n",
    "        y_std=bet.std()\n",
    "        \n",
    "        plt.plot(x, y, label='{}, tasa de conv: {:.6f} $\\pm$ {:.10f}'.format(nom, y_media, y_std))\n",
    "        plt.yticks([])\n",
    "        \n",
    "    plt.legend()\n",
    "    plt.show();"
   ]
  },
  {
   "cell_type": "code",
   "execution_count": 28,
   "id": "b9974487",
   "metadata": {
    "scrolled": false
   },
   "outputs": [
    {
     "data": {
      "image/png": "[encoded data removed]",
      "text/plain": [
       "<Figure size 1080x576 with 1 Axes>"
      ]
     },
     "metadata": {
      "needs_background": "light"
     },
     "output_type": "display_data"
    }
   ],
   "source": [
    "plot([beta_control, beta_test], ['Control', 'Testeo'])"
   ]
  },
  {
   "cell_type": "code",
   "execution_count": 29,
   "id": "f9f9f7bf",
   "metadata": {},
   "outputs": [
    {
     "data": {
      "text/plain": [
       "0.12500000000000003"
      ]
     },
     "execution_count": 29,
     "metadata": {},
     "output_type": "execute_result"
    }
   ],
   "source": [
    "salto=(beta_test.mean() - beta_control.mean())/beta_control.mean()\n",
    "\n",
    "salto"
   ]
  },
  {
   "cell_type": "code",
   "execution_count": 30,
   "id": "b5a960e9",
   "metadata": {},
   "outputs": [],
   "source": [
    "#prob=calc_prob(beta_test, beta_control)"
   ]
  },
  {
   "cell_type": "code",
   "execution_count": 31,
   "id": "3833080b",
   "metadata": {},
   "outputs": [
    {
     "data": {
      "text/plain": [
       "0.5981903076171875"
      ]
     },
     "execution_count": 31,
     "metadata": {},
     "output_type": "execute_result"
    }
   ],
   "source": [
    "from mpmath import betainc   # integral de beta\n",
    "\n",
    "prob=betainc(a_T, b_T, 0.5, 1, regularized=True)\n",
    "\n",
    "prob=float(prob)\n",
    "\n",
    "prob"
   ]
  },
  {
   "cell_type": "code",
   "execution_count": 32,
   "id": "320ca95a",
   "metadata": {},
   "outputs": [
    {
     "data": {
      "text/plain": [
       "'El test aumenta la tasa de conversion en un 12.50%, con una probabilidad del 59.82%'"
      ]
     },
     "execution_count": 32,
     "metadata": {},
     "output_type": "execute_result"
    }
   ],
   "source": [
    "'''El test aumenta la tasa de conversion en un {:2.2f}%, con una probabilidad del {:2.2f}%'''.format(salto*100, prob*100)"
   ]
  },
  {
   "cell_type": "code",
   "execution_count": null,
   "id": "8560e760",
   "metadata": {},
   "outputs": [],
   "source": []
  }
 ],
 "metadata": {
  "kernelspec": {
   "display_name": "Python 3 (ipykernel)",
   "language": "python",
   "name": "python3"
  },
  "language_info": {
   "codemirror_mode": {
    "name": "ipython",
    "version": 3
   },
   "file_extension": ".py",
   "mimetype": "text/x-python",
   "name": "python",
   "nbconvert_exporter": "python",
   "pygments_lexer": "ipython3",
   "version": "3.9.7"
  }
 },
 "nbformat": 4,
 "nbformat_minor": 5
}
